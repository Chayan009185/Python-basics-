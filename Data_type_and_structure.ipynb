{
  "cells": [
    {
      "cell_type": "markdown",
      "metadata": {
        "id": "view-in-github",
        "colab_type": "text"
      },
      "source": [
        "<a href=\"https://colab.research.google.com/github/Chayan009185/Python-basics-/blob/main/Data_type_and_structure.ipynb\" target=\"_parent\"><img src=\"https://colab.research.google.com/assets/colab-badge.svg\" alt=\"Open In Colab\"/></a>"
      ]
    },
    {
      "cell_type": "markdown",
      "metadata": {
        "id": "x9Qxzihm0yin"
      },
      "source": [
        "1. What are data structures, and why are they important?\n",
        "\n",
        "  =  Data structures are organized formats for storing, managing, and accessing data efficiently. They define how data is arranged in memory and provide ways to perform operations like insertion, deletion, searching, and sorting. Examples of data structures include arrays, linked lists, stacks, queues, trees, graphs, hash tables, and more.\n",
        "\n",
        "Why Are Data Structures Important :\n",
        "\n",
        "I. Efficiency: Data structures enable efficient data manipulation and retrieval. For example, searching for an element in a sorted array is faster (using binary search) than in an unsorted array.\n",
        "\n",
        "\n",
        "II. Optimized Resource Usage: Choosing the right data structure helps in optimizing memory and computational resources.\n",
        "\n",
        "\n",
        "III. Scalability: They ensure programs can handle larger datasets as requirements grow, without a significant drop in performance.\n",
        "\n",
        "\n",
        "IV. Problem Solving: Different data structures suit different types of problems. For example:\n",
        "\n",
        "Graphs are ideal for network-related problems (e.g., social networks or shortest path algorithms).\n",
        "\n",
        "Stacks and queues are useful in scheduling or parsing tasks.\n",
        "\n",
        "\n",
        "\n",
        "V. Foundation of Algorithms: Many algorithms depend on data structures for optimal performance. Sorting, searching, and pathfinding algorithms, for example, rely heavily on data structures like trees or heaps.\n",
        "\n",
        "\n",
        "VI. Real-World Applications: Data structures are integral in areas such as databases, operating systems, web development, machine learning, and more.\n",
        "\n",
        "\n",
        "\n",
        "In summary, understanding and using data structures effectively is essential for writing efficient and scalable programs.\n",
        "\n",
        "\n",
        "2.Explain the difference between mutable and immutable data types with examples?\n",
        "\n",
        "\n",
        "   = The key distinction lies in whether the value of the data type can be changed after it is created.\n",
        "\n",
        "Mutable Data TypesDefinition:\n",
        "\n",
        "Mutable data types can be modified after their creation. You can change their content without changing their identity (memory address).\n",
        "\n",
        "Examples: Lists, dictionaries, sets (in Python).\n",
        "\n",
        "Behavior:\n",
        "\n",
        "You can add, remove, or update elements.\n",
        "\n",
        "Immutable Data TypesDefinition:\n",
        "\n",
        "Immutable data types cannot be modified after their creation. Any \"change\" results in the creation of a new object.\n",
        "\n",
        "Examples: Strings, tuples, integers, floats.\n",
        "\n",
        "Behavior:\n",
        "\n",
        "Operations on these types return a new object rather than modifying the original.\n",
        "Key Differences:\n",
        "\n",
        "Understanding these differences is crucial in programming, as it affects how data is handled and passed in functions, as well as performance and memory usage.\n",
        "\n",
        "\n",
        "3.What are the main differences between lists and tuples in Python?\n",
        "\n",
        "  = I.Mutability\n",
        "Lists: Mutable, meaning they can be modified\n",
        "Tuples: Immutable, meaning they cannot be changed after creation\n",
        "\n",
        "II.Memory efficiency\n",
        "Tuples: Use less memory than lists\n",
        "Lists: Consume more memory than tuples\n",
        "\n",
        "III.Performance\n",
        "Tuples: Faster than lists, especially for looking up values\n",
        "Lists: Slower than tuples, especially for iteration\n",
        "\n",
        "IV.Syntax\n",
        "Tuples: Use round brackets or parenthesis\n",
        "Lists: Use square brackets.\n",
        "\n",
        "4.Describe how dictionaries store data.\n",
        "\n",
        "   = Dictionaries in Python are an unordered collection of key-value pairs, where each key is unique, and values are associated with these keys. Internally, dictionaries use a hash table for fast data retrieval and storage.\n",
        "\n",
        " ● How Data is Stored\n",
        "\n",
        "I. Hashing:\n",
        "\n",
        "Each key in the dictionary is hashed using a hash function.\n",
        "\n",
        "A hash function takes the key and computes an integer, called the hash value, which determines where the key-value pair is stored in memory.\n",
        "\n",
        "\n",
        "\n",
        "II. Buckets:\n",
        "\n",
        "The hash table contains an array of \"buckets.\"\n",
        "\n",
        "Each bucket can store one or more key-value pairs. If two keys have the same hash value (a hash collision), they are stored in the same bucket but resolved using methods like chaining.\n",
        "\n",
        "\n",
        "\n",
        "III. Memory Efficiency:\n",
        "\n",
        "The size of the hash table dynamically adjusts to maintain efficiency.\n",
        "\n",
        "As the number of elements grows, the hash table resizes to minimize collisions and ensure fast lookups.\n",
        "\n",
        "5.Why might you use a set instead of a list in Python?\n",
        "\n",
        "  = Using a set instead of a list in Python is beneficial in specific scenarios where its unique properties and performance advantages are needed. Below are the key reasons for using a set over a list:\n",
        "\n",
        "I. Uniqueness of Elements\n",
        "\n",
        "Sets automatically ensure that all elements are unique. If duplicates are added, they are ignored.\n",
        "\n",
        "Use Case: When you need to maintain a collection of distinct items.\n",
        "\n",
        "II. Faster Membership Tests\n",
        "\n",
        "Sets are optimized for membership testing (e.g., checking if an element exists) because they use a hash table internally.\n",
        "\n",
        "Time Complexity:\n",
        "\n",
        "For a set, membership checks are O(1) (average case).\n",
        "\n",
        "For a list, membership checks are O(n) (linear search).\n",
        "\n",
        "III. Set Operations\n",
        "\n",
        "Sets provide built-in methods for mathematical operations like union, intersection, difference, and symmetric difference, which are more intuitive and faster than manually performing such operations on lists.\n",
        "\n",
        "\n",
        "\n",
        "IV. Performance with Large Data\n",
        "\n",
        "Sets are generally faster for operations involving uniqueness or membership when working with large datasets, as lists require linear scans for the same.\n",
        "\n",
        "6.What is a string in Python, and how is it different from a list?\n",
        "\n",
        "   = A string in Python is a sequence of characters used to represent text. It is created by enclosing characters in single quotes ('), double quotes (\"), or triple quotes (''' or \"\"\"). Strings are immutable, meaning their content cannot be changed after creation.\n",
        "\n",
        "  ● Different from a list :\n",
        "\n",
        "I. Mutability :string is immutable and list is mutabile\n",
        "\n",
        "II. Data Type : String sequence of characters\n",
        " List sequence of data type (e.g numbers,  string,  object)\n",
        "\n",
        "III. Element: string\n",
        "contains only characters.\n",
        "\n",
        "List :can contain mixed data types.\n",
        "\n",
        "IV. Syntax  : string enclosed in quotes (\",\").\n",
        "  List enclosed in square brackets ([ ]).\n",
        "\n",
        "7.How do tuples ensure data integrity in Python?\n",
        "\n",
        "  = Tuples in Python ensure data integrity primarily through immutability. This immutability provides a layer of safety by preventing unintentional modifications to the data stored in a tuple. Here's how tuples help maintain data integrity:\n",
        "\n",
        "I. Immutability :\n",
        "\n",
        "Once a tuple is created, its content (i.e., the elements inside it) cannot be altered. This means:\n",
        "\n",
        "No addition of new elements.\n",
        "\n",
        "No removal of existing elements.\n",
        "\n",
        "No modification of existing elements.\n",
        "\n",
        "\n",
        "This immutability ensures that the data remains consistent throughout the program's execution.\n",
        "\n",
        "II. Protection Against Unintentional Changes :\n",
        "\n",
        "By preventing modifications, tuples safeguard critical data from accidental changes.\n",
        "\n",
        "This is particularly useful when passing data to functions or working with shared data structures.\n",
        "\n",
        "III. Hashability :\n",
        "\n",
        "Tuples are hashable (provided their elements are also hashable). This allows them to be used as keys in dictionaries or stored in sets, ensuring the integrity of key-value mappings.\n",
        "\n",
        "Lists, being mutable, are not hashable and thus cannot serve the same purpose.\n",
        "\n",
        "\n",
        "IV. Fixed Structure :\n",
        "\n",
        "Tuples provide a fixed structure, which is beneficial when representing static data or enforcing a specific data format.\n",
        "\n",
        "For example, tuples are often used to represent geographic coordinates, RGB colors, or database records, where the number and order of elements should not change.\n",
        "\n",
        "\n",
        "8.What is a hash table, and how does it relate to dictionaries in Python?\n",
        "\n",
        "  = A hash table is a data structure that stores key-value pairs and allows for efficient data retrieval. It uses a hash function to compute an index (hash value) for a given key, which determines where the associated value is stored in memory.\n",
        "\n",
        "\n",
        "Key Features of a Hash Table\n",
        "\n",
        "I. Hash Function:\n",
        "\n",
        "A function that takes a key as input and returns an integer (the hash value).\n",
        "\n",
        "This hash value determines the index of the key-value pair in the underlying data structure.\n",
        "\n",
        "\n",
        "\n",
        "II. Buckets:\n",
        "\n",
        "The hash table is composed of an array of \"buckets,\" where each bucket can hold one or more key-value pairs.\n",
        "\n",
        "\n",
        "\n",
        "III. Collision Handling:\n",
        "\n",
        "When two keys produce the same hash value (collision), the hash table must resolve this to store both key-value pairs. Common methods include:\n",
        "\n",
        "Chaining: Storing multiple items in the same bucket using a linked list or another structure.\n",
        "\n",
        "Open Addressing: Finding the next available slot in the array.\n",
        "\n",
        "\n",
        "\n",
        "\n",
        "IV. Efficiency:\n",
        "\n",
        "Average time complexity for insertions, deletions, and lookups is O(1).\n",
        "\n",
        "\n",
        "   ● How Does It Relate to Dictionaries in  Python is :\n",
        "\n",
        "Python's dictionaries are implemented using hash tables. Each key-value pair in a dictionary is stored in a hash table for efficient access. Here's how it works:\n",
        "\n",
        "I. Key Hashing:\n",
        "\n",
        "When you add a key-value pair to a dictionary, Python computes the hash value of the key using the built-in hash() function.\n",
        "\n",
        "The hash value determines the bucket where the key-value pair is stored.\n",
        "\n",
        "\n",
        "\n",
        "II. Fast Lookups:\n",
        "\n",
        "When you access a value using a key, Python uses the hash value of the key to quickly locate the corresponding bucket and retrieve the value.\n",
        "\n",
        "\n",
        "\n",
        "III. Collision Handling:\n",
        "\n",
        "Python dictionaries handle hash collisions internally using a method similar to chaining.\n",
        "\n",
        "\n",
        "\n",
        "IV. Immutability of Keys:\n",
        "\n",
        "Keys in a dictionary must be immutable (e.g., strings, numbers, tuples with immutable elements) to ensure that their hash value does not change after being added to the hash table.\n",
        "\n",
        "\n",
        "9. Can lists contain different data types in Python?\n",
        "\n",
        "  = Yes, lists in Python can contain elements of different data types. Python lists are highly versatile and can store any combination of data types, including integers, floats, strings, booleans, other lists, dictionaries, tuples, and even custom objects.\n",
        "\n",
        "\n",
        "Key Characteristics of Lists in Python\n",
        "\n",
        "I. Dynamic and Heterogeneous:\n",
        "\n",
        "Lists can grow dynamically, meaning you can add or remove elements at runtime.\n",
        "\n",
        "They can hold elements of different types in a single collection.\n",
        "\n",
        "\n",
        "\n",
        "II. Use Cases:\n",
        "\n",
        "Storing mixed data types is useful in scenarios where you need to group related but diverse data, such as records or configurations.\n",
        "\n",
        "\n",
        "\n",
        "III. Flexibility:\n",
        "\n",
        "Lists in Python are not type-restricted like arrays in some other programming languages.\n",
        "\n",
        "\n",
        "\n",
        "10. Explain why strings are immutable in Python.\n",
        "\n",
        "  = Strings in Python are immutable, meaning once a string is created, it cannot be modified. If you attempt to alter a string, a new string is created instead. This design choice has several practical and performance-related reasons:\n",
        "\n",
        "   ●Reasons Why Strings Are Immutable in Python :\n",
        "\n",
        "I. Memory Efficiency and Reusability:\n",
        "\n",
        "Python uses a mechanism called string interning, where identical strings are stored in a single memory location to save memory.\n",
        "\n",
        "If strings were mutable, modifying one string could inadvertently change another string that shares the same memory location, leading to bugs.\n",
        "\n",
        "II. Hashability:\n",
        "\n",
        "Strings are immutable, making them hashable. This allows strings to be used as keys in dictionaries or stored in sets.\n",
        "\n",
        "If strings were mutable, their hash values could change, disrupting dictionary lookups or set membership checks.\n",
        "\n",
        "\n",
        "III. Thread Safety:\n",
        "\n",
        "Immutability ensures that strings are thread-safe because their content cannot be altered. This makes it easier to share string objects between threads without requiring additional synchronization mechanisms.\n",
        "\n",
        "IV. Predictability and Simplicity:\n",
        "\n",
        "Immutability simplifies string behavior. For instance:\n",
        "\n",
        "A string remains unchanged after operations like slicing, concatenation, or formatting, providing predictable results.\n",
        "\n",
        "Developers can work with strings without worrying about unintended side effects.\n",
        "\n",
        "  ● Conclusion :\n",
        "\n",
        "Strings are immutable in Python to enhance memory efficiency, hashability, thread safety, and performance, while simplifying programming logic. This immutability is a deliberate design choice that ensures consistency and reliability in Python programs.\n",
        "\n",
        "\n",
        "11.What advantages do dictionaries offer over lists for certain tasks?\n",
        "\n",
        "  = Dictionaries offer several advantages over lists for certain tasks, particularly when dealing with key-value pairs or when you need efficient lookups. Here are some key advantages:\n",
        "\n",
        "I. Fast Lookups:\n",
        "\n",
        "Dictionaries: Provide average O(1) time complexity for lookups, inserts, and deletions using keys, thanks to their underlying hash table implementation.\n",
        "\n",
        "Lists: Require O(n) time for searching since you may need to iterate through the entire list to find an item.\n",
        "\n",
        "\n",
        "II. Key-Value Pair Organization:\n",
        "\n",
        "Dictionaries: Allow you to associate values with unique keys, making the data self-descriptive and easy to access by a meaningful identifier.\n",
        "\n",
        "Lists: Only store values without any inherent relationship between them unless paired manually.\n",
        "\n",
        "\n",
        "III. No Need for Sequential Indexing:\n",
        "\n",
        "Dictionaries: Let you access elements directly using keys, without relying on positional indices.\n",
        "\n",
        "Lists: Require you to access items based on their position, which may not be intuitive.\n",
        "\n",
        "\n",
        "IV. Efficient Updates:\n",
        "\n",
        "Dictionaries: Allow direct updating of values by their key without having to search or reorganize the structure.\n",
        "\n",
        "Lists: Updating an item requires locating it by position or value, which can be slower.\n",
        "\n",
        "\n",
        "V. Prevention of Duplicate Keys:\n",
        "\n",
        "Dictionaries: Automatically prevent duplicate keys, ensuring data consistency.\n",
        "\n",
        "Lists: Do not have built-in mechanisms to prevent duplicate elements.\n",
        "\n",
        "\n",
        "VI. Better for Sparse Data:\n",
        "\n",
        "Dictionaries: Are ideal for sparse data where only a few keys have associated values, as they avoid the need to store unused positions.\n",
        "\n",
        "Lists: Require placeholders for empty positions, which can be wasteful in terms of memory.\n",
        "\n",
        "\n",
        "   ● Customizable Key Types\n",
        "\n",
        "Dictionaries: Allow you to use various immutable types (e.g., strings, numbers, tuples) as keys, enabling flexible data modeling.\n",
        "\n",
        "Lists: Only index elements using integers.\n",
        "\n",
        "\n",
        "Use Case Examples\n",
        "\n",
        "Dictionaries: Storing user profiles ({\"username\": \"Chayan\", \"age\": 23}) or mapping product IDs to their details.\n",
        "\n",
        "Lists: Keeping an ordered collection of items (e.g., [1, 2, 3, 4]) where the order is important.\n",
        "\n",
        "\n",
        "For tasks involving relationships, quick lookups, or non-sequential access, dictionaries are often the better choice.\n",
        "\n",
        "\n",
        "12.Describe a scenario where using a tuple would be preferable over a list.\n",
        "\n",
        "\n",
        " = A tuple would be preferable over a list in scenarios where immutability, performance, or hashability is critical. Here’s an example:\n",
        "\n",
        "Scenario: Storing Coordinates for a Map Application\n",
        "\n",
        "Imagine you're building a map application that frequently uses fixed geographical coordinates (latitude and longitude), such as (40.7128, -74.0060) for New York City.\n",
        "\n",
        "Why a Tuple is Preferable:\n",
        "\n",
        "I. Immutability:\n",
        "\n",
        "Coordinates do not change; once defined, they remain constant. Using a tuple ensures the data cannot be modified accidentally, preserving data integrity.\n",
        "\n",
        "A list, being mutable, could accidentally be altered during operations, leading to potential bugs.\n",
        "\n",
        "\n",
        "\n",
        "II. Hashability:\n",
        "\n",
        "Tuples are hashable, meaning they can be used as keys in dictionaries or stored in sets.\n",
        "\n",
        "Lists are not hashable and cannot be used as dictionary keys or set elements.\n",
        "\n",
        "\n",
        "\n",
        "III. Performance:\n",
        "\n",
        "Tuples are faster than lists for operations like iteration or storing data, which is beneficial when dealing with large datasets of fixed coordinates.\n",
        "\n",
        "\n",
        "\n",
        "IV. Semantic Meaning:\n",
        "\n",
        "Tuples imply that the data is fixed and should be treated as a single, cohesive unit\n",
        "This is conceptually aligned with representing coordinates as an unchangeable pair\n",
        "In this case, a tuple is a natural and efficient choice for representing immutable, ordered pairs like coordinates.\n",
        "\n",
        "\n",
        "13.How do sets handle duplicate values in Python?\n",
        "\n",
        "  = In Python, sets automatically eliminate duplicate values when they are created or updated. Sets are designed to store only unique elements, so if you add duplicate values to a set, only one instance of each value is retained.\n",
        "\n",
        "  ● How it Works:\n",
        "\n",
        "Hashing: Sets use a hash table internally. When an element is added, its hash is computed, and the set ensures that the hash (and thus the value) is stored only once.\n",
        "\n",
        "Equality Check: If two elements have the same hash and are considered equal (via the __eq__ method), the duplicate is not added.\n",
        "\n",
        "\n",
        "  ● Key Features:\n",
        "\n",
        "I. No Duplicates Allowed: Duplicate values are ignored silently.\n",
        "\n",
        "\n",
        "II. Unordered Collection: The order in which elements are stored in a set is not guaranteed.\n",
        "\n",
        "\n",
        "III. Automatic Deduplication: When initializing a set from a list or other iterable, duplicates are automatically removed:\n",
        "\n",
        "\n",
        "  ● Use Case:\n",
        "\n",
        "Sets are ideal for tasks requiring unique elements, such as removing duplicates from a list or performing mathematical set operations (e.g., union, intersection, difference).\n",
        "\n",
        "14.How does the \"in\" keyword work differently for lists and dictionaries?\n",
        "\n",
        "  = The in keyword is used to check membership in Python, but it works differently for lists and dictionaries based on the type of data structure and the kind of search being performed.\n",
        "\n",
        " ● For Lists:\n",
        "\n",
        "The in keyword checks if a value exists as an element in the list.\n",
        "\n",
        "It performs a linear search, meaning it iterates through each element of the list until it finds a match or reaches the end.\n",
        "\n",
        "Time Complexity: O(n) (where n is the number of elements in the list).\n",
        "\n",
        "\n",
        " ● For Dictionaries:\n",
        "\n",
        "The in keyword checks for the presence of a key, not a value.\n",
        "\n",
        "It uses a hash table lookup, which is very fast.\n",
        "\n",
        "Time Complexity: O(1) on average for dictionary lookups.\n",
        "\n",
        "  ● Summary:\n",
        "\n",
        "Use in with lists for searching elements.\n",
        "\n",
        "Use in with dictionaries to check for keys. To check for values in dictionaries, use in dict.values().\n",
        "\n",
        "\n",
        "15.Can you modify the elements of a tuple? Explain why or why not.\n",
        "\n",
        "  = No, you cannot modify the elements of a tuple in Python because tuples are immutable. This means that once a tuple is created, its elements cannot be changed, added, or removed.\n",
        "\n",
        "  ● Why Tuples Are Immutable:\n",
        "\n",
        "I. Design Philosophy:\n",
        "\n",
        "Tuples are meant to represent fixed collections of items that should not change during the program's execution. This immutability ensures consistency and integrity of the data.\n",
        "\n",
        "\n",
        "\n",
        "II. Efficiency:\n",
        "\n",
        "Since tuples are immutable, they require less memory and are faster than lists. They are optimized for read-only operations.\n",
        "\n",
        "\n",
        "\n",
        "III. Hashability:\n",
        "\n",
        "Immutability allows tuples to be hashable, which means they can be used as keys in dictionaries or stored in sets. This is not possible with mutable data types like lists.\n",
        "\n",
        "\n",
        "  ● Summary:\n",
        "\n",
        "Tuples are immutable, and you cannot change their elements after creation.\n",
        "\n",
        "Attempting to modify an element results in a TypeError.\n",
        "\n",
        "Tuples can hold mutable objects, and those objects can be modified, but the tuple's structure itself cannot change.\n",
        "\n",
        "16.What is a nested dictionary, and give an example of its use case?\n",
        "\n",
        "  = A nested dictionary is a dictionary where the values themselves are dictionaries. This allows you to create a hierarchical structure, which is useful for representing complex, structured data.\n",
        "\n",
        "Example:\n",
        "\n",
        "A nested dictionary can represent data like a company's employee hierarchy, where each department has employees with details like name and position."
      ]
    },
    {
      "cell_type": "code",
      "execution_count": null,
      "metadata": {
        "id": "SdQ1RWexiElV"
      },
      "outputs": [],
      "source": [
        "company = {\n",
        "    \"Sales\": {\n",
        "        \"emp1\": {\"name\": \"Alice\", \"position\": \"Manager\"},\n",
        "        \"emp2\": {\"name\": \"Bob\", \"position\": \"Sales Executive\"},\n",
        "    },\n",
        "    \"IT\": {\n",
        "        \"emp1\": {\"name\": \"Charlie\", \"position\": \"Developer\"},\n",
        "        \"emp2\": {\"name\": \"Diana\", \"position\": \"System Analyst\"},\n",
        "    },\n",
        "}\n",
        "\n",
        "# Accessing nested dictionary elements\n",
        "print(company[\"Sales\"][\"emp1\"][\"name\"])  # Output: Alice\n",
        "print(company[\"IT\"][\"emp2\"][\"position\"])  # Output: System Analyst"
      ]
    },
    {
      "cell_type": "markdown",
      "metadata": {
        "id": "NZzTKGxhiGIy"
      },
      "source": [
        "Use Case:\n",
        "\n",
        "Organizing Complex Data Structures\n",
        "\n",
        "Nested dictionaries are ideal for scenarios where data has multiple levels of categorization.\n",
        "\n",
        "  ● Examples:\n",
        "\n",
        "1. Student Database:"
      ]
    },
    {
      "cell_type": "code",
      "execution_count": null,
      "metadata": {
        "id": "taxK2oRziWhD"
      },
      "outputs": [],
      "source": [
        "students = {\n",
        "    \"class1\": {\n",
        "        \"student1\": {\"name\": \"John\", \"grade\": \"A\"},\n",
        "        \"student2\": {\"name\": \"Jane\", \"grade\": \"B\"},\n",
        "    },\n",
        "    \"class2\": {\n",
        "        \"student1\": {\"name\": \"Mike\", \"grade\": \"A\"},\n",
        "        \"student2\": {\"name\": \"Anna\", \"grade\": \"C\"},\n",
        "    },\n",
        "}"
      ]
    },
    {
      "cell_type": "markdown",
      "metadata": {
        "id": "auAKg0wTiaj9"
      },
      "source": [
        "2. Product Inventory:"
      ]
    },
    {
      "cell_type": "code",
      "execution_count": null,
      "metadata": {
        "colab": {
          "background_save": true
        },
        "id": "DHDWG5H7ic2E"
      },
      "outputs": [],
      "source": [
        "inventory = {\n",
        "    \"Electronics\": {\n",
        "        \"Laptop\": {\"price\": 1000, \"stock\": 50},\n",
        "        \"Smartphone\": {\"price\": 500, \"stock\": 200},\n",
        "    },\n",
        "    \"Clothing\": {\n",
        "        \"T-Shirt\": {\"price\": 20, \"stock\": 300},\n",
        "        \"Jeans\": {\"price\": 40, \"stock\": 100},\n",
        "    },\n",
        "}"
      ]
    },
    {
      "cell_type": "markdown",
      "metadata": {
        "id": "5D5crGB4igWQ"
      },
      "source": [
        "17.Describe the time complexity of accessing elements in a dictionary.\n",
        "\n",
        "  = The time complexity of accessing elements in a dictionary in Python is:\n",
        "\n",
        "I. Average Case: O(1)\n",
        "\n",
        "Why? Dictionaries in Python use a hash table as their underlying data structure.\n",
        "\n",
        "When accessing a value using a key, the key is hashed to determine its location in the hash table.\n",
        "\n",
        "This allows direct access to the value without needing to iterate through the dictionary, making lookups very fast.\n",
        "\n",
        "II. Worst Case: O(n)\n",
        "\n",
        "Why? Although rare, hash collisions can occur. In such cases:\n",
        "\n",
        "Multiple keys might hash to the same location in the hash table, leading to a collision.\n",
        "\n",
        "Python resolves collisions using a technique like chaining (storing multiple key-value pairs in a linked list or similar structure at the same location).\n",
        "\n",
        "If many collisions occur, searching through the chain becomes O(n) in the worst case, where n is the number of elements in the dictionary.\n",
        "\n",
        "\n",
        "\n",
        "  ● Example Scenario:\n",
        "\n",
        "If many keys collide due to poor hashing or adversarial input, you may need to iterate over multiple entries.\n",
        "\n",
        "\n",
        "  ● Practical Performance:\n",
        "\n",
        "In real-world applications, Python's hash table implementation is highly optimized, and collisions are rare. As a result:\n",
        "\n",
        "Dictionary access is effectively O(1) in most cases.\n",
        "\n",
        "Edge cases with O(n) are uncommon and usually the result of specific circumstances (e.g., adversarial inputs targeting hash functions).\n",
        "\n",
        "\n",
        "  ● Summary:\n",
        "\n",
        "Average Time Complexity: O(1) for lookups, inserts, and deletions.\n",
        "\n",
        "Worst Time Complexity: O(n) in rare cases due to hash collisions.\n",
        "\n",
        "Python dictionaries are fast and efficient for most practical purposes.\n",
        "\n",
        " 18.In what situations are lists preferred over dictionaries?\n",
        "\n",
        "  = Lists are preferred over dictionaries in situations where sequential data, order, or indexing is more important than key-value associations. Here are specific scenarios where lists are the better choice:\n",
        "\n",
        " I. When Data Needs to Be Ordered:\n",
        "\n",
        "Lists maintain the order of elements, while dictionaries (since Python 3.7) also maintain order but are optimized for key-value pairs.\n",
        "\n",
        "If order is critical and you don’t need key-value relationships, a list is simpler and more appropriate.\n",
        "\n",
        "II. When Indexing by Position is Required:\n",
        "\n",
        "Lists allow access to elements using their position (e.g., list[0]).\n",
        "\n",
        "If you need to perform position-based operations like slicing or retrieving the nth element, lists are more straightforward.\n",
        "\n",
        "III. When Handling Homogeneous Data:\n",
        "\n",
        "Lists are ideal for storing collections of similar data, such as numbers, strings, or objects.\n",
        "\n",
        "They are simpler and more lightweight than dictionaries when you don’t need labeled access.\n",
        "\n",
        "\n",
        "IV. When Iteration is Sequential:\n",
        "\n",
        "Iterating through a list is more straightforward when order matters, and you’re processing elements one by one.\n",
        "\n",
        "\n",
        "  ● When Not to Use Lists :\n",
        "\n",
        "If you need to map relationships (key-value pairs), perform fast lookups by unique identifiers, or store sparse data, dictionaries are better suited.\n",
        "\n",
        "\n",
        "  ● In summary :\n",
        "\n",
        "lists are preferred for ordered, homogeneous, or sequential data, while dictionaries are ideal for key-value relationships and fast lookups.\n",
        "\n",
        "\n",
        "  19.Why are dictionaries considered unordered, and how does that affect data retrieval?\n",
        "\n",
        "  = Dictionaries in Python were traditionally considered unordered because their internal storage mechanism did not guarantee that items would be retrieved in the same order they were added. However, starting with Python 3.7, dictionaries preserve the insertion order of their keys as an implementation detail.\n",
        "\n",
        "  ● Why Were Dictionaries Historically Unordered :\n",
        "\n",
        "I. Hash Table Mechanism:\n",
        "\n",
        "Dictionaries use a hash table as their underlying data structure.\n",
        "\n",
        "Keys are hashed to determine their location in memory, and this hashing process does not inherently preserve the order of insertion.\n",
        "\n",
        "\n",
        "\n",
        "II. Optimization:\n",
        "\n",
        "The design prioritized fast lookups, inserts, and deletions (average O(1) time complexity), not maintaining order.\n",
        "\n",
        "Preserving order adds additional overhead, which was not deemed necessary in earlier implementations.\n",
        "\n",
        "  ● Effects of Unordered :\n",
        "\n",
        "I. Unpredictable Retrieval:\n",
        "\n",
        "The order in which keys were iterated or items were retrieved could vary between runs of the program or different Python versions.\n",
        "\n",
        "This unpredictability could make certain operations (like debugging or comparing output) more challenging.\n",
        "\n",
        "\n",
        "II. No Positional Access:\n",
        "\n",
        "You couldn't rely on a dictionary to behave like a list (access by position), as dictionaries were designed for key-based lookups.\n",
        "\n",
        "  ● Ordered Behavior :\n",
        "\n",
        "I. Preserved Insertion Order:\n",
        "\n",
        "Dictionaries now store items in the order they are added, and this order is preserved during iteration.\n",
        "\n",
        "This makes them behave more predictably in scenarios where order matters.\n",
        "\n",
        "  ● Still Not Indexed:\n",
        "\n",
        "Despite the preservation of order, dictionaries are not indexed like lists, meaning you cannot access elements by a numerical index (dict[0] will raise an error).\n",
        "\n",
        "  ● How This Affects Data Retrieval:\n",
        "\n",
        " Data retrieval order was arbitrary, so relying on the order of keys or items in a dictionary was a poor practice.\n",
        "\n",
        "  ● Data retrieval order :\n",
        "\n",
        " Data retrieval order is predictable and follows insertion order, making dictionaries more versatile for tasks where order matters, such as serialization or ordered data representation.\n",
        "\n",
        "\n",
        "20.Explain the difference between a list and a dictionary in terms of data retrieval.\n",
        "\n",
        "  = The primary difference between a list and a dictionary in terms of data retrieval lies in how elements are accessed and the retrieval performance. Here’s a detailed breakdown:\n",
        "\n",
        "I . Data Retrieval Mechanism\n",
        "\n",
        " ▪︎ Lists:\n",
        "\n",
        "Data is retrieved using integer-based indexing, which represents the position of elements in the list.\n",
        "\n",
        "You must know the index of the item to access it.\n",
        "\n",
        " ▪︎ Dictionaries:\n",
        "\n",
        "Data is retrieved using keys, which are mapped to values.\n",
        "\n",
        "Keys are unique identifiers, allowing direct access to the corresponding value.\n",
        "\n",
        "\n",
        "II. Performance\n",
        "\n",
        " ▪︎ Lists:\n",
        "\n",
        "Retrieval Time Complexity: O(1) for indexing if the index is known.\n",
        "\n",
        "If you need to find an item without knowing its index, it requires a linear search with O(n) time complexity.\n",
        "\n",
        "\n",
        " ▪︎ Dictionaries:\n",
        "\n",
        "Retrieval Time Complexity: O(1) on average for key-based lookups due to the underlying hash table.\n",
        "\n",
        "Searching by value (not key) requires O(n) time complexity, as it involves iterating through all key-value pairs.\n",
        "\n",
        "\n",
        "III. Organization\n",
        "\n",
        " ▪︎ Lists:\n",
        "\n",
        "Store elements in an ordered sequence.\n",
        "\n",
        "Useful for homogeneous data (e.g., a list of numbers or strings).\n",
        "\n",
        "\n",
        " ▪︎ Dictionaries:\n",
        "\n",
        "Store data as key-value pairs, where keys are unique and values can be of any type.\n",
        "\n",
        "Useful for associating meaningful identifiers (keys) with their respective data.\n",
        "\n",
        "\n",
        " IV. Use Case Examples\n",
        "\n",
        " ▪︎ Lists:\n",
        "\n",
        "When you need to store and access data by its position.\n",
        "\n",
        "\n",
        " ▪︎ Dictionaries:\n",
        "\n",
        "When you need to store and access data by a unique key."
      ]
    },
    {
      "cell_type": "code",
      "source": [
        "#Practical Questions Answers :"
      ],
      "metadata": {
        "id": "un1vvL6kpGjt"
      },
      "execution_count": null,
      "outputs": []
    },
    {
      "cell_type": "markdown",
      "source": [
        "1. Write a code to create a string with your name and print it."
      ],
      "metadata": {
        "id": "G9SuBxp6poR4"
      }
    },
    {
      "cell_type": "code",
      "source": [
        "name = \"Chayan Dev\"\n",
        "print(name)"
      ],
      "metadata": {
        "colab": {
          "base_uri": "https://localhost:8080/"
        },
        "id": "iI6s_n68qGz_",
        "outputId": "0db54af6-3ecc-41ba-9e89-0c0ba4b47aba"
      },
      "execution_count": null,
      "outputs": [
        {
          "output_type": "stream",
          "name": "stdout",
          "text": [
            "Chayan Dev\n"
          ]
        }
      ]
    },
    {
      "cell_type": "markdown",
      "source": [
        "2. Write a code to find the length of the string \"Hello World\"."
      ],
      "metadata": {
        "id": "PQUD9qGEqVsU"
      }
    },
    {
      "cell_type": "code",
      "source": [
        "string = \"Hello World\"\n",
        "length = len(string)\n",
        "print(\"The length of the string is:\", length)"
      ],
      "metadata": {
        "colab": {
          "base_uri": "https://localhost:8080/"
        },
        "id": "yj8w_JLIqk0m",
        "outputId": "cc802dfb-06da-4001-cd53-f3656fa14702"
      },
      "execution_count": null,
      "outputs": [
        {
          "output_type": "stream",
          "name": "stdout",
          "text": [
            "The length of the string is: 11\n"
          ]
        }
      ]
    },
    {
      "cell_type": "markdown",
      "source": [
        "3.Write a code to slice the first 3 characters from the string \"Python Programming\"."
      ],
      "metadata": {
        "id": "lLQCRF3arXVT"
      }
    },
    {
      "cell_type": "code",
      "source": [
        "string = \"Python Programming\"\n",
        "sliced_string = string[:3]\n",
        "print(\"The first 3 characters are:\", sliced_string)"
      ],
      "metadata": {
        "colab": {
          "base_uri": "https://localhost:8080/"
        },
        "id": "gbBgP4Farr5l",
        "outputId": "6ab6f27a-5f26-4e2a-ab5a-75e31c5c6953"
      },
      "execution_count": null,
      "outputs": [
        {
          "output_type": "stream",
          "name": "stdout",
          "text": [
            "The first 3 characters are: Pyt\n"
          ]
        }
      ]
    },
    {
      "cell_type": "markdown",
      "source": [
        "4.Write a code to convert the string \"hello\" to uppercase ."
      ],
      "metadata": {
        "id": "KdfRnnnvrvEa"
      }
    },
    {
      "cell_type": "code",
      "source": [
        "string = \"hello\"\n",
        "uppercase_string = string.upper()\n",
        "print(\"The string in uppercase is:\", uppercase_string)"
      ],
      "metadata": {
        "colab": {
          "base_uri": "https://localhost:8080/"
        },
        "id": "PW-2_F2tsCy7",
        "outputId": "d1890889-65b4-4d86-abb1-52e1e44fecc2"
      },
      "execution_count": null,
      "outputs": [
        {
          "output_type": "stream",
          "name": "stdout",
          "text": [
            "The string in uppercase is: HELLO\n"
          ]
        }
      ]
    },
    {
      "cell_type": "markdown",
      "source": [
        "5.Write a code to replace the word \"apple\" with \"orange\" in the string \"I like apple\"."
      ],
      "metadata": {
        "id": "po2fDhD_sNWZ"
      }
    },
    {
      "cell_type": "code",
      "source": [
        "string = \"I like apple\"\n",
        "new_string = string.replace(\"apple\", \"orange\")\n",
        "print(\"Modified string:\", new_string)"
      ],
      "metadata": {
        "colab": {
          "base_uri": "https://localhost:8080/"
        },
        "id": "H4bZTbbEsb1F",
        "outputId": "8d52fe21-dadc-4654-d3e7-9c5d3a77e5f3"
      },
      "execution_count": null,
      "outputs": [
        {
          "output_type": "stream",
          "name": "stdout",
          "text": [
            "Modified string: I like orange\n"
          ]
        }
      ]
    },
    {
      "cell_type": "markdown",
      "source": [
        "6.Write a code to create a list with numbers 1 to 5 and print it."
      ],
      "metadata": {
        "id": "pN7fxFhUsheM"
      }
    },
    {
      "cell_type": "code",
      "source": [
        "numbers = [1, 2, 3, 4, 5]\n",
        "print(\"The list is:\", numbers)"
      ],
      "metadata": {
        "colab": {
          "base_uri": "https://localhost:8080/"
        },
        "id": "0xYiIYLusvL1",
        "outputId": "e9a3f6f8-095e-4dd3-99bb-03e5bb1846e9"
      },
      "execution_count": null,
      "outputs": [
        {
          "output_type": "stream",
          "name": "stdout",
          "text": [
            "The list is: [1, 2, 3, 4, 5]\n"
          ]
        }
      ]
    },
    {
      "cell_type": "markdown",
      "source": [
        "7.Write a code to append the number 10 to the list [1, 2, 3, 4]."
      ],
      "metadata": {
        "id": "-aylKtyJsxqV"
      }
    },
    {
      "cell_type": "code",
      "source": [
        "numbers = [1, 2, 3, 4]\n",
        "numbers.append(10)\n",
        "print(\"Updated list:\", numbers)"
      ],
      "metadata": {
        "colab": {
          "base_uri": "https://localhost:8080/"
        },
        "id": "8yovmA17tCEg",
        "outputId": "bb6677e1-55e3-4b33-c576-ebff610baf22"
      },
      "execution_count": null,
      "outputs": [
        {
          "metadata": {
            "tags": null
          },
          "name": "stdout",
          "output_type": "stream",
          "text": [
            "Updated list: [1, 2, 3, 4, 10]\n"
          ]
        }
      ]
    },
    {
      "cell_type": "markdown",
      "source": [
        "8.Write a code to remove the number 3 from the list [1, 2, 3, 4, 5]."
      ],
      "metadata": {
        "id": "oNThp4agtLuY"
      }
    },
    {
      "cell_type": "code",
      "source": [
        "numbers = [1, 2, 3, 4, 5]\n",
        "numbers.remove(3)\n",
        "print(\"Updated list:\", numbers)"
      ],
      "metadata": {
        "colab": {
          "base_uri": "https://localhost:8080/"
        },
        "id": "4FhWafnztZTd",
        "outputId": "32612dd6-1c84-4635-e5d7-a9b754ab2d43"
      },
      "execution_count": null,
      "outputs": [
        {
          "output_type": "stream",
          "name": "stdout",
          "text": [
            "Updated list: [1, 2, 4, 5]\n"
          ]
        }
      ]
    },
    {
      "cell_type": "markdown",
      "source": [
        "9.Write a code to access the second element in the list ['a, 'b', 'c', 'd']."
      ],
      "metadata": {
        "id": "I_Cip66htnOt"
      }
    },
    {
      "cell_type": "code",
      "source": [
        "letters = ['a', 'b', 'c', 'd']\n",
        "second_element = letters[1]\n",
        "print(\"The second element is:\", second_element)"
      ],
      "metadata": {
        "colab": {
          "base_uri": "https://localhost:8080/"
        },
        "id": "Gd0lP8Gpt4RD",
        "outputId": "25988c8a-4070-45ba-fda5-e78774d24bda"
      },
      "execution_count": null,
      "outputs": [
        {
          "output_type": "stream",
          "name": "stdout",
          "text": [
            "The second element is: b\n"
          ]
        }
      ]
    },
    {
      "cell_type": "markdown",
      "source": [
        "10.Write a code to reverse the list [10, 20, 30, 40, 50]."
      ],
      "metadata": {
        "id": "UAcL0ifSuKzB"
      }
    },
    {
      "cell_type": "code",
      "source": [
        "numbers = [10, 20, 30, 40, 50]\n",
        "numbers.reverse()\n",
        "print(\"Reversed list:\", numbers)"
      ],
      "metadata": {
        "colab": {
          "base_uri": "https://localhost:8080/"
        },
        "id": "2oMKaUiauVyG",
        "outputId": "6e4f7438-9b43-4d75-f332-ca5bd81a35eb"
      },
      "execution_count": null,
      "outputs": [
        {
          "output_type": "stream",
          "name": "stdout",
          "text": [
            "Reversed list: [50, 40, 30, 20, 10]\n"
          ]
        }
      ]
    },
    {
      "cell_type": "markdown",
      "source": [
        "11 . Write a code to create a tuple with the elements 10, 20, 30 and print it."
      ],
      "metadata": {
        "id": "C645xG_-uYjO"
      }
    },
    {
      "cell_type": "code",
      "source": [
        "my_tuple = (10, 20, 30)\n",
        "print(\"The tuple is:\", my_tuple)"
      ],
      "metadata": {
        "colab": {
          "base_uri": "https://localhost:8080/"
        },
        "id": "pTlRl1Y1uk58",
        "outputId": "efe68361-7459-4e04-a4cc-3ea0fbedc8b2"
      },
      "execution_count": null,
      "outputs": [
        {
          "output_type": "stream",
          "name": "stdout",
          "text": [
            "The tuple is: (10, 20, 30)\n"
          ]
        }
      ]
    },
    {
      "cell_type": "markdown",
      "source": [
        "12.Write a code to access the first element of the tuple ('apple', 'banana', 'cherry')."
      ],
      "metadata": {
        "id": "uJvEz1S6uqdT"
      }
    },
    {
      "cell_type": "code",
      "source": [
        "fruits = ('apple', 'banana', 'cherry')\n",
        "first_element = fruits[0]\n",
        "print(\"The first element is:\", first_element)"
      ],
      "metadata": {
        "colab": {
          "base_uri": "https://localhost:8080/"
        },
        "id": "6jdoM41hu3Px",
        "outputId": "4396fd30-8cea-41d1-9721-2745bf3655ae"
      },
      "execution_count": null,
      "outputs": [
        {
          "output_type": "stream",
          "name": "stdout",
          "text": [
            "The first element is: apple\n"
          ]
        }
      ]
    },
    {
      "cell_type": "markdown",
      "source": [
        "13.Write a code to count how many times the number 2 appears in the tuple (1, 2, 3, 2, 4, 2)."
      ],
      "metadata": {
        "id": "2VGHgQcSu5_R"
      }
    },
    {
      "cell_type": "code",
      "source": [
        "my_tuple = (1, 2, 3, 2, 4, 2)\n",
        "count = my_tuple.count(2)\n",
        "print(\"The number 2 appears\", count, \"times.\")"
      ],
      "metadata": {
        "colab": {
          "base_uri": "https://localhost:8080/"
        },
        "id": "_15sQFOqvGVH",
        "outputId": "612fb484-ffe4-421d-8b10-6f7ce5599f01"
      },
      "execution_count": null,
      "outputs": [
        {
          "output_type": "stream",
          "name": "stdout",
          "text": [
            "The number 2 appears 3 times.\n"
          ]
        }
      ]
    },
    {
      "cell_type": "markdown",
      "source": [
        "14.Write a code to find the index of the element \"cat\" in the tuple ('dog, 'cat', 'rabbit')."
      ],
      "metadata": {
        "id": "faKZNJoavIZX"
      }
    },
    {
      "cell_type": "code",
      "source": [
        "animals = ('dog', 'cat', 'rabbit')\n",
        "index = animals.index('cat')\n",
        "print(\"The index of 'cat' is:\", index)"
      ],
      "metadata": {
        "colab": {
          "base_uri": "https://localhost:8080/"
        },
        "id": "_lwmX17bvUvX",
        "outputId": "ea230481-0813-4af4-d77b-ff98a9bb0564"
      },
      "execution_count": null,
      "outputs": [
        {
          "output_type": "stream",
          "name": "stdout",
          "text": [
            "The index of 'cat' is: 1\n"
          ]
        }
      ]
    },
    {
      "cell_type": "markdown",
      "source": [
        "15.Write a code to check if the element \"banana\" is in the tuple ('apple', 'orange', 'banana')."
      ],
      "metadata": {
        "id": "EvoAezQ6vXVL"
      }
    },
    {
      "cell_type": "code",
      "source": [
        "fruits = ('apple', 'orange', 'banana')\n",
        "if 'banana' in fruits:\n",
        "    print(\"Yes, 'banana' is in the tuple.\")\n",
        "else:\n",
        "    print(\"No, 'banana' is not in the tuple.\")"
      ],
      "metadata": {
        "colab": {
          "base_uri": "https://localhost:8080/"
        },
        "id": "2nwQBUCXviKH",
        "outputId": "cb4e67fd-1b67-4d4e-9788-bc95cd53dc9e"
      },
      "execution_count": null,
      "outputs": [
        {
          "output_type": "stream",
          "name": "stdout",
          "text": [
            "Yes, 'banana' is in the tuple.\n"
          ]
        }
      ]
    },
    {
      "cell_type": "markdown",
      "source": [
        "16.Write a code to create a set with the elements 1, 2, 3, 4, 5 and print it."
      ],
      "metadata": {
        "id": "0htVfTE1vpGF"
      }
    },
    {
      "cell_type": "code",
      "source": [
        "my_set = {1, 2, 3, 4, 5}\n",
        "print(\"The set is:\", my_set)"
      ],
      "metadata": {
        "colab": {
          "base_uri": "https://localhost:8080/"
        },
        "id": "pZ8Us7fdv0DT",
        "outputId": "23d40ed2-77e2-4203-ce42-1acd5133675a"
      },
      "execution_count": null,
      "outputs": [
        {
          "output_type": "stream",
          "name": "stdout",
          "text": [
            "The set is: {1, 2, 3, 4, 5}\n"
          ]
        }
      ]
    },
    {
      "cell_type": "markdown",
      "source": [
        "17.Write a code to add the element 6 to the set {1, 2, 3, 4}."
      ],
      "metadata": {
        "id": "OET0paB5v3dv"
      }
    },
    {
      "cell_type": "code",
      "source": [
        "my_set = {1, 2, 3, 4}\n",
        "my_set.add(6)\n",
        "print(\"Updated set:\", my_set)"
      ],
      "metadata": {
        "colab": {
          "base_uri": "https://localhost:8080/"
        },
        "id": "1B-4g2JzwAmr",
        "outputId": "82ff0a20-69fb-478b-fcd2-ac18e23b86d5"
      },
      "execution_count": null,
      "outputs": [
        {
          "output_type": "stream",
          "name": "stdout",
          "text": [
            "Updated set: {1, 2, 3, 4, 6}\n"
          ]
        }
      ]
    },
    {
      "cell_type": "markdown",
      "source": [
        "18.Write a code to create a tuple with the elements 10, 20, 30 and print it"
      ],
      "metadata": {
        "id": "aRpQFlVdwNst"
      }
    },
    {
      "cell_type": "code",
      "source": [
        "my_tuple = (10, 20, 30)\n",
        "print(\"The tuple is:\", my_tuple)"
      ],
      "metadata": {
        "colab": {
          "base_uri": "https://localhost:8080/"
        },
        "id": "jowQnnatwYb_",
        "outputId": "514e88ba-c547-4846-a9d7-d06c498db18a"
      },
      "execution_count": null,
      "outputs": [
        {
          "output_type": "stream",
          "name": "stdout",
          "text": [
            "The tuple is: (10, 20, 30)\n"
          ]
        }
      ]
    },
    {
      "cell_type": "markdown",
      "source": [
        "19.Write a code to access the first element of the tuple ('apple', 'banana', 'cherry')."
      ],
      "metadata": {
        "id": "nqcIJgagwptw"
      }
    },
    {
      "cell_type": "code",
      "source": [
        "fruits = ('apple', 'banana', 'cherry')\n",
        "first_element = fruits[0]\n",
        "print(\"The first element is:\", first_element)"
      ],
      "metadata": {
        "id": "yXnmYa3uw37n",
        "outputId": "bb15cf99-6b4b-4521-9e6f-7dfc59747b8a",
        "colab": {
          "base_uri": "https://localhost:8080/"
        }
      },
      "execution_count": null,
      "outputs": [
        {
          "output_type": "stream",
          "name": "stdout",
          "text": [
            "The first element is: apple\n"
          ]
        }
      ]
    },
    {
      "cell_type": "markdown",
      "source": [
        "20.Write a code to count how many times the number 2 appears in the tuple (1, 2, 3, 2, 4, 2)."
      ],
      "metadata": {
        "id": "Y3S7pnvcxCv6"
      }
    },
    {
      "cell_type": "code",
      "source": [
        "my_tuple = (1, 2, 3, 2, 4, 2)\n",
        "count = my_tuple.count(2)\n",
        "print(\"The number 2 appears\", count, \"times.\")"
      ],
      "metadata": {
        "colab": {
          "base_uri": "https://localhost:8080/"
        },
        "id": "vM6CdsRNxQB3",
        "outputId": "434191f8-1108-41ca-f4da-07a473784a9f"
      },
      "execution_count": null,
      "outputs": [
        {
          "output_type": "stream",
          "name": "stdout",
          "text": [
            "The number 2 appears 3 times.\n"
          ]
        }
      ]
    },
    {
      "cell_type": "markdown",
      "source": [
        "21.Write a code to find the index of the element \"cat\" in the tuple ('dog', 'cat, rabbit')."
      ],
      "metadata": {
        "id": "RpXxIy1dxxg_"
      }
    },
    {
      "cell_type": "code",
      "source": [
        "animals = ('dog', 'cat', 'rabbit')\n",
        "index = animals.index('cat')\n",
        "print(\"The index of 'cat' is:\", index)"
      ],
      "metadata": {
        "colab": {
          "base_uri": "https://localhost:8080/"
        },
        "id": "CqZNifUlyDGa",
        "outputId": "63740c6b-1cfd-42c4-87d5-79b077458850"
      },
      "execution_count": null,
      "outputs": [
        {
          "output_type": "stream",
          "name": "stdout",
          "text": [
            "The index of 'cat' is: 1\n"
          ]
        }
      ]
    },
    {
      "cell_type": "markdown",
      "source": [
        "22.Write a code to check if the element \"banana\" is in the tuple ('apple', 'orange', 'banana')."
      ],
      "metadata": {
        "id": "46LxyUqTyMEc"
      }
    },
    {
      "cell_type": "code",
      "source": [
        "fruits = ('apple', 'orange', 'banana')\n",
        "if 'banana' in fruits:\n",
        "    print(\"Yes, 'banana' is in the tuple.\")\n",
        "else:\n",
        "    print(\"No, 'banana' is not in the tuple.\")"
      ],
      "metadata": {
        "colab": {
          "base_uri": "https://localhost:8080/"
        },
        "id": "ZjTlBmJKyZrb",
        "outputId": "5cac0f16-889c-43cf-9314-a02a1708b26e"
      },
      "execution_count": null,
      "outputs": [
        {
          "output_type": "stream",
          "name": "stdout",
          "text": [
            "Yes, 'banana' is in the tuple.\n"
          ]
        }
      ]
    },
    {
      "cell_type": "markdown",
      "source": [
        "23.Write a code to create a set with the elements 1, 2, 3, 4, 5 and print it."
      ],
      "metadata": {
        "id": "e0pJZcxHyjlL"
      }
    },
    {
      "cell_type": "code",
      "source": [
        "my_set = {1, 2, 3, 4, 5}\n",
        "print(\"The set is:\", my_set)"
      ],
      "metadata": {
        "colab": {
          "base_uri": "https://localhost:8080/"
        },
        "id": "3Pq_2zsNyvby",
        "outputId": "d30d3ac3-c55b-4f13-ff74-5bdcf7d747c5"
      },
      "execution_count": null,
      "outputs": [
        {
          "output_type": "stream",
          "name": "stdout",
          "text": [
            "The set is: {1, 2, 3, 4, 5}\n"
          ]
        }
      ]
    },
    {
      "cell_type": "markdown",
      "source": [
        "24.Write a code to add the element 6 to the set {1, 2, 3, 4}."
      ],
      "metadata": {
        "id": "UOOS8GNRyxvM"
      }
    },
    {
      "cell_type": "code",
      "source": [
        "my_set = {1, 2, 3, 4}\n",
        "my_set.add(6)\n",
        "print(\"Updated set:\", my_set)"
      ],
      "metadata": {
        "id": "fy5WjLIYy81E",
        "outputId": "93b53e64-41e0-4ba2-bc70-b1ce3aae18a0",
        "colab": {
          "base_uri": "https://localhost:8080/"
        }
      },
      "execution_count": null,
      "outputs": [
        {
          "output_type": "stream",
          "name": "stdout",
          "text": [
            "Updated set: {1, 2, 3, 4, 6}\n"
          ]
        }
      ]
    }
  ],
  "metadata": {
    "colab": {
      "provenance": [],
      "authorship_tag": "ABX9TyOsoNk+6JqTj0RrDIaDvxTm",
      "include_colab_link": true
    },
    "kernelspec": {
      "display_name": "Python 3",
      "name": "python3"
    },
    "language_info": {
      "name": "python"
    }
  },
  "nbformat": 4,
  "nbformat_minor": 0
}