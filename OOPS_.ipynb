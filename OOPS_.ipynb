{
  "nbformat": 4,
  "nbformat_minor": 0,
  "metadata": {
    "colab": {
      "provenance": [],
      "authorship_tag": "ABX9TyPktZJ7f58y7xQdCsNi3ozm",
      "include_colab_link": true
    },
    "kernelspec": {
      "name": "python3",
      "display_name": "Python 3"
    },
    "language_info": {
      "name": "python"
    }
  },
  "cells": [
    {
      "cell_type": "markdown",
      "metadata": {
        "id": "view-in-github",
        "colab_type": "text"
      },
      "source": [
        "<a href=\"https://colab.research.google.com/github/Chayan009185/Python-basics-/blob/main/OOPS_.ipynb\" target=\"_parent\"><img src=\"https://colab.research.google.com/assets/colab-badge.svg\" alt=\"Open In Colab\"/></a>"
      ]
    },
    {
      "cell_type": "markdown",
      "source": [
        "\n",
        "\n",
        "1. What is Object-Oriented Programming (OOP)?\n",
        " =\n",
        "\n",
        "OOP is a programming paradigm based on the concept of \"objects,\" which contain data (attributes) and methods (functions) that operate on the data. It emphasizes principles such as encapsulation, inheritance, and polymorphism to design modular and reusable code.\n",
        "\n",
        "\n",
        "2. What is a class in OOP?\n",
        "\n",
        "\n",
        "A class is a blueprint or template for creating objects. It defines the properties (attributes) and behaviors (methods) that objects instantiated from the class will have.\n",
        "\n",
        "\n",
        "3. What is an object in OOP?\n",
        "\n",
        "\n",
        "An object is an instance of a class that contains specific values for the attributes defined in the class and can use the methods provided by the class.\n",
        "\n",
        "\n",
        "4. What is the difference between abstraction and encapsulation?\n",
        "\n",
        "\n",
        "\n",
        "\n",
        "Abstraction: Hides implementation details and exposes only the necessary functionality.\n",
        "\n",
        "Encapsulation: Bundles data and methods into a single unit and restricts direct access to some components.\n",
        "\n",
        "\n",
        "\n",
        "5. What are dunder methods in Python?\n",
        "\n",
        "\n",
        "\n",
        "Dunder (double underscore) methods, also known as magic methods, are special methods with double underscores at the beginning and end (e.g., __init__, __str__). They allow customization of class behavior.\n",
        "\n",
        "\n",
        "6. Explain the concept of inheritance in OOP.\n",
        "\n",
        "\n",
        "\n",
        "\n",
        "Inheritance allows a class (child class) to inherit properties and methods from another class (parent class), enabling code reusability and hierarchical classification.\n",
        "\n",
        "\n",
        "7. What is polymorphism in OOP?\n",
        "\n",
        "\n",
        "\n",
        "Polymorphism allows different objects to be treated as instances of the same class through a common interface, enabling code to be written more generically.\n",
        "\n",
        "\n",
        "8. How is encapsulation achieved in Python?\n",
        "\n",
        "\n",
        "\n",
        "Encapsulation is achieved using private (__var), protected (_var), and public (var) access modifiers to control access to class attributes and methods.\n",
        "\n",
        "\n",
        "9. What is a constructor in Python?\n",
        "\n",
        "\n",
        "\n",
        "A constructor is a special method (__init__) that is automatically called when an object is created to initialize its attributes.\n",
        "\n",
        "\n",
        "10. What are class and static methods in Python?\n",
        "\n",
        "\n",
        "\n",
        "Class methods (@classmethod) take a reference to the class (cls) and can modify class-level attributes.\n",
        "\n",
        "Static methods (@staticmethod) do not take class or instance references and behave like regular functions within a class.\n",
        "\n",
        "\n",
        "11. What is method overloading in Python?\n",
        "\n",
        "\n",
        "\n",
        "Python does not support traditional method overloading. Instead, default argument values and variable arguments (*args, **kwargs) are used to achieve similar functionality.\n",
        "\n",
        "\n",
        "12. What is method overriding in OOP?\n",
        "\n",
        "\n",
        "\n",
        "Method overriding allows a subclass to provide a specific implementation of a method that is already defined in its parent class.\n",
        "\n",
        "\n",
        "13. What is a property decorator in Python?\n",
        "\n",
        "\n",
        "\n",
        "The @property decorator is used to define getter methods in a class, allowing attribute access without explicitly calling a method.\n",
        "\n",
        "\n",
        "14. Why is polymorphism important in OOP?\n",
        "\n",
        "\n",
        "\n",
        "Polymorphism enhances code flexibility and reusability by allowing objects of different classes to be treated uniformly through common interfaces.\n",
        "\n",
        "\n",
        "15. What is an abstract class in Python?\n",
        "\n",
        "\n",
        "\n",
        "An abstract class in Python (defined using the abc module) cannot be instantiated directly and serves as a blueprint for subclasses, requiring them to implement specific methods.\n",
        "\n",
        "\n",
        "16. What are the advantages of OOP?\n",
        "\n",
        "\n",
        "\n",
        "Code reusability (inheritance)\n",
        "\n",
        "Scalability and maintainability\n",
        "\n",
        "Modularity and abstraction\n",
        "\n",
        "Security through encapsulation\n",
        "\n",
        "\n",
        "17. What is the difference between a class variable and an instance variable?\n",
        "\n",
        "\n",
        "\n",
        "Class variable: Shared across all instances of a class.\n",
        "\n",
        "Instance variable: Unique to each object and defined within the constructor (__init__).\n",
        "\n",
        "\n",
        "18. What is multiple inheritance in Python?\n",
        "\n",
        "\n",
        "\n",
        "Multiple inheritance allows a class to inherit from more than one parent class, combining functionality from multiple sources.\n",
        "\n",
        "\n",
        "19. Explain the purpose of __str__ and __repr__ methods in Python.\n",
        "\n",
        "\n",
        "\n",
        "__str__: Returns a user-friendly string representation of an object.\n",
        "\n",
        "__repr__: Returns an official string representation (useful for debugging).\n",
        "\n",
        "\n",
        "20. What is the significance of the super() function in Python?\n",
        "\n",
        "\n",
        "\n",
        "The super() function allows calling methods from a parent class, facilitating method resolution order in inheritance.\n",
        "\n",
        "\n",
        "21. What is the significance of the __del__ method in Python?\n",
        "\n",
        "\n",
        "\n",
        "The __del__ method is called when an object is deleted or garbage-collected to perform cleanup operations.\n",
        "\n",
        "\n",
        "22. What is the difference between @staticmethod and @classmethod in Python?\n",
        "\n",
        "\n",
        "\n",
        "@staticmethod: No reference to class or instance; used for utility functions.\n",
        "\n",
        "@classmethod: Takes class reference (cls) and can modify class-level attributes.\n",
        "\n",
        "\n",
        "23. How does polymorphism work in Python with inheritance?\n",
        "\n",
        "\n",
        "\n",
        "Polymorphism allows derived classes to override methods of the parent class while maintaining a consistent interface across different types.\n",
        "\n",
        "\n",
        "24. What is method chaining in Python OOP?\n",
        "\n",
        "\n",
        "Method chaining refers to calling multiple methods on the same object in a single statement, achieved by returning self from methods.\n",
        "\n",
        "\n",
        "25. What is the purpose of the __call__ method in Python?\n",
        "\n",
        "\n",
        "\n",
        "The __call__ method allows an object to be called like a function by overriding it in the class definition."
      ],
      "metadata": {
        "id": "cFMc6Mgjml9v"
      }
    },
    {
      "cell_type": "code",
      "source": [
        "# PRACTICAL QUESTIONS ANSWER"
      ],
      "metadata": {
        "id": "sjSQhMfwwydJ"
      },
      "execution_count": null,
      "outputs": []
    },
    {
      "cell_type": "markdown",
      "source": [
        "1. Create a parent class Animal with a method speak() that prints a generic message. Create a child class Dog that overrides the speak() method to print \"Bark!\"."
      ],
      "metadata": {
        "id": "5SVX_Yw1wy5o"
      }
    },
    {
      "cell_type": "code",
      "source": [
        "class Animal:\n",
        "    def speak(self):\n",
        "        print(\"Animal speaks\")\n",
        "\n",
        "class Dog(Animal):\n",
        "    def speak(self):\n",
        "        print(\"Bark!\")"
      ],
      "metadata": {
        "id": "5vrNLHZFyD8B"
      },
      "execution_count": null,
      "outputs": []
    },
    {
      "cell_type": "markdown",
      "source": [
        "2. Write a program to create an abstract class Shape with a method area(). Derive classes Circle and Rectangle from it and implement the area() method in both."
      ],
      "metadata": {
        "id": "RbGAkWZbyKvJ"
      }
    },
    {
      "cell_type": "code",
      "source": [
        "\n",
        "\n",
        "class Shape(ABC):\n",
        "    @abstractmethod\n",
        "    def area(self):\n",
        "        pass\n",
        "\n",
        "class Circle(Shape):\n",
        "    def __init__(self, radius):\n",
        "        self.radius = radius\n",
        "\n",
        "    def area(self):\n",
        "        return math.pi * self.radius ** 2\n",
        "\n",
        "class Rectangle(Shape):\n",
        "    def __init__(self, width, height):\n",
        "        self.width = width\n",
        "        self.height = height\n",
        "\n",
        "    def area(self):\n",
        "        return self.width * self.height"
      ],
      "metadata": {
        "id": "dDt82NoXyN0R"
      },
      "execution_count": null,
      "outputs": []
    },
    {
      "cell_type": "markdown",
      "source": [
        "3. Implement a multi-level inheritance scenario where a class Vehicle has an attribute type. Derive a class Car and further derive a class ElectricCar that adds a battery attribute."
      ],
      "metadata": {
        "id": "UISy6XOYyVu6"
      }
    },
    {
      "cell_type": "code",
      "source": [
        "class Vehicle:\n",
        "    def __init__(self, type):\n",
        "        self.type = type\n",
        "\n",
        "class Car(Vehicle):\n",
        "    def __init__(self, type, brand):\n",
        "        super().__init__(type)\n",
        "        self.brand = brand\n",
        "\n",
        "class ElectricCar(Car):\n",
        "    def __init__(self, type, brand, battery):\n",
        "        super().__init__(type, brand)\n",
        "        self.battery = battery"
      ],
      "metadata": {
        "id": "-rdxR28WyZZP"
      },
      "execution_count": null,
      "outputs": []
    },
    {
      "cell_type": "markdown",
      "source": [
        "4. Implement a multi-level inheritance scenario where a class Vehicle has an attribute type. Derive a class Car and further derive a class ElectricCar that adds a battery attribute."
      ],
      "metadata": {
        "id": "_jja-cawyfFj"
      }
    },
    {
      "cell_type": "code",
      "source": [
        "class Vehicle:\n",
        "    def __init__(self, type):\n",
        "        self.type = type\n",
        "\n",
        "class Car(Vehicle):\n",
        "    def __init__(self, type, brand):\n",
        "        super().__init__(type)\n",
        "        self.brand = brand\n",
        "\n",
        "class ElectricCar(Car):\n",
        "    def __init__(self, type, brand, battery):\n",
        "        super().__init__(type, brand)\n",
        "        self.battery = battery"
      ],
      "metadata": {
        "id": "DssLoDsuzBgK"
      },
      "execution_count": null,
      "outputs": []
    },
    {
      "cell_type": "markdown",
      "source": [
        "5. Write a program to demonstrate encapsulation by creating a class BankAccount with private attributes balance and methods to deposit, withdraw, and check balance."
      ],
      "metadata": {
        "id": "YXIe7IyuzE1o"
      }
    },
    {
      "cell_type": "code",
      "source": [
        "class Instrument:\n",
        "    def play(self):\n",
        "        print(\"Playing instrument\")\n",
        "\n",
        "class Guitar(Instrument):\n",
        "    def play(self):\n",
        "        print(\"Playing the guitar\")\n",
        "\n",
        "class Piano(Instrument):\n",
        "    def play(self):\n",
        "        print(\"Playing the piano\")"
      ],
      "metadata": {
        "id": "5ceu1iOczE-2"
      },
      "execution_count": null,
      "outputs": []
    },
    {
      "cell_type": "markdown",
      "source": [
        "6. Demonstrate runtime polymorphism using a method play() in a base class Instrument. Derive classes Guitar and Piano that implement their own version of play()."
      ],
      "metadata": {
        "id": "l7x5EejVzJTT"
      }
    },
    {
      "cell_type": "code",
      "source": [
        "class Instrument:\n",
        "    def play(self):\n",
        "        print(\"Playing instrument\")\n",
        "\n",
        "class Guitar(Instrument):\n",
        "    def play(self):\n",
        "        print(\"Playing the guitar\")\n",
        "\n",
        "class Piano(Instrument):\n",
        "    def play(self):\n",
        "        print(\"Playing the piano\")"
      ],
      "metadata": {
        "id": "IZpqJBGCzJ8G"
      },
      "execution_count": null,
      "outputs": []
    },
    {
      "cell_type": "markdown",
      "source": [
        "7. Create a class MathOperations with a class method add_numbers() to add two numbers and a static method subtract_numbers() to subtract two numbers."
      ],
      "metadata": {
        "id": "yasqdUgXzQW-"
      }
    },
    {
      "cell_type": "code",
      "source": [
        "class MathOperations:\n",
        "    @classmethod\n",
        "    def add_numbers(cls, a, b):\n",
        "        return a + b\n",
        "\n",
        "    @staticmethod\n",
        "    def subtract_numbers(a, b):\n",
        "        return a - b"
      ],
      "metadata": {
        "id": "fqi3fjsozQxE"
      },
      "execution_count": null,
      "outputs": []
    },
    {
      "cell_type": "markdown",
      "source": [
        "8. Implement a class Person with a class method to count the total number of persons created."
      ],
      "metadata": {
        "id": "AcCfG4_kzU7R"
      }
    },
    {
      "cell_type": "code",
      "source": [
        "class Person:\n",
        "    count = 0\n",
        "\n",
        "    def __init__(self):\n",
        "        Person.count += 1\n",
        "\n",
        "    @classmethod\n",
        "    def total_persons(cls):\n",
        "        return cls.count"
      ],
      "metadata": {
        "id": "FUTwoSrOzWeo"
      },
      "execution_count": null,
      "outputs": []
    },
    {
      "cell_type": "markdown",
      "source": [
        "9. Write a class Fraction with attributes numerator and denominator. Override the __str__ method to display the fraction as \"numerator/denominator\"."
      ],
      "metadata": {
        "id": "wdKdXD2Ezb5t"
      }
    },
    {
      "cell_type": "code",
      "source": [
        "class Fraction:\n",
        "    def __init__(self, numerator, denominator):\n",
        "        self.numerator = numerator\n",
        "        self.denominator = denominator\n",
        "\n",
        "    def __str__(self):\n",
        "        return f\"{self.numerator}/{self.denominator}\""
      ],
      "metadata": {
        "id": "s30G3ZmHzceP"
      },
      "execution_count": null,
      "outputs": []
    },
    {
      "cell_type": "markdown",
      "source": [
        "10. Demonstrate operator overloading by creating a class Vector and overriding the + method to add two vectors."
      ],
      "metadata": {
        "id": "kEJgFz1RzgrJ"
      }
    },
    {
      "cell_type": "code",
      "source": [
        "class Vector:\n",
        "    def __init__(self, x, y):\n",
        "        self.x = x\n",
        "        self.y = y\n",
        "\n",
        "    def __add__(self, other):\n",
        "        return Vector(self.x + other.x, self.y + other.y)\n",
        "\n",
        "    def __str__(self):\n",
        "        return f\"({self.x}, {self.y})\""
      ],
      "metadata": {
        "id": "BdqrFBfmzhNC"
      },
      "execution_count": null,
      "outputs": []
    },
    {
      "cell_type": "markdown",
      "source": [
        "11. Create a class Person with attributes name and age. Add a method greet() that prints \"Hello, my name is {name} and I am {age} years old.\""
      ],
      "metadata": {
        "id": "D7buxE83zmL9"
      }
    },
    {
      "cell_type": "code",
      "source": [
        "class Person:\n",
        "    def __init__(self, name, age):\n",
        "        self.name = name\n",
        "        self.age = age\n",
        "\n",
        "    def greet(self):\n",
        "        print(f\"Hello, my name is {self.name} and I am {self.age} years old.\")\n",
        "\n",
        "# Example usage\n",
        "p = Person(\"Alice\", 30)\n",
        "p.greet()  # Output: Hello, my name is Alice and I am 30 years old."
      ],
      "metadata": {
        "id": "eb_runrzzmdS"
      },
      "execution_count": null,
      "outputs": []
    },
    {
      "cell_type": "markdown",
      "source": [
        "12. Implement a class Student with attributes name and grades. Create a method average_grade() to compute the average of the grades."
      ],
      "metadata": {
        "id": "za822NzgzqTZ"
      }
    },
    {
      "cell_type": "code",
      "source": [
        "class Student:\n",
        "    def __init__(self, name, grades):\n",
        "        self.name = name\n",
        "        self.grades = grades\n",
        "\n",
        "    def average_grade(self):\n",
        "        return sum(self.grades) / len(self.grades) if self.grades else 0"
      ],
      "metadata": {
        "id": "5UisBBDIzqeL"
      },
      "execution_count": null,
      "outputs": []
    },
    {
      "cell_type": "markdown",
      "source": [
        "13. Create a class Rectangle with methods set_dimensions() to set the dimensions and area() to calculate the area."
      ],
      "metadata": {
        "id": "V2LjyYc70iYn"
      }
    },
    {
      "cell_type": "code",
      "source": [
        "class Rectangle:\n",
        "    def __init__(self):\n",
        "        self.width = 0\n",
        "        self.height = 0\n",
        "\n",
        "    def set_dimensions(self, width, height):\n",
        "        self.width = width\n",
        "        self.height = height\n",
        "\n",
        "    def area(self):\n",
        "        return self.width * self.height"
      ],
      "metadata": {
        "id": "AusxtRBU0jC_"
      },
      "execution_count": null,
      "outputs": []
    },
    {
      "cell_type": "markdown",
      "source": [
        "14. Create a class Employee with a method calculate_salary() that computes the salary based on hours worked and hourly rate. Create a derived class Manager that adds a bonus to the salary."
      ],
      "metadata": {
        "id": "l_rFLQCh0oqY"
      }
    },
    {
      "cell_type": "code",
      "source": [
        "class Employee:\n",
        "    def __init__(self, hours_worked, hourly_rate):\n",
        "        self.hours_worked = hours_worked\n",
        "        self.hourly_rate = hourly_rate\n",
        "\n",
        "    def calculate_salary(self):\n",
        "        return self.hours_worked * self.hourly_rate\n",
        "\n",
        "class Manager(Employee):\n",
        "    def __init__(self, hours_worked, hourly_rate, bonus):\n",
        "        super().__init__(hours_worked, hourly_rate)\n",
        "        self.bonus = bonus\n",
        "\n",
        "    def calculate_salary(self):\n",
        "        return super().calculate_salary() + self.bonus"
      ],
      "metadata": {
        "id": "9zK7i8sl0o5t"
      },
      "execution_count": null,
      "outputs": []
    },
    {
      "cell_type": "markdown",
      "source": [
        "15. Create a class Product with attributes name, price, and quantity. Implement a method total_price() that calculates the total price of the product."
      ],
      "metadata": {
        "id": "gyQ8x1s10wfN"
      }
    },
    {
      "cell_type": "code",
      "source": [
        "class Product:\n",
        "    def __init__(self, name, price, quantity):\n",
        "        self.name = name\n",
        "        self.price = price\n",
        "        self.quantity = quantity\n",
        "\n",
        "    def total_price(self):\n",
        "        return self.price * self.quantity"
      ],
      "metadata": {
        "id": "StPHc3zu0wos"
      },
      "execution_count": null,
      "outputs": []
    },
    {
      "cell_type": "markdown",
      "source": [
        "16. Create a class Animal with an abstract method sound(). Create two derived classes Cow and Sheep that implement the sound() method."
      ],
      "metadata": {
        "id": "TSumLx2700Jg"
      }
    },
    {
      "cell_type": "code",
      "source": [
        "class Animal(ABC):\n",
        "    @abstractmethod\n",
        "    def sound(self):\n",
        "        pass\n",
        "\n",
        "class Cow(Animal):\n",
        "    def sound(self):\n",
        "        return \"Moo\"\n",
        "\n",
        "class Sheep(Animal):\n",
        "    def sound(self):\n",
        "        return \"Baa\""
      ],
      "metadata": {
        "id": "tjxdwZW802mi"
      },
      "execution_count": null,
      "outputs": []
    },
    {
      "cell_type": "markdown",
      "source": [
        "17. Create a class Book with attributes title, author, and year_published. Add a method get_book_info() that returns a formatted string with the book's details."
      ],
      "metadata": {
        "id": "ZmBmv9Wb1ZjY"
      }
    },
    {
      "cell_type": "code",
      "source": [
        "class Book:\n",
        "    def __init__(self, title, author, year_published):\n",
        "        self.title = title\n",
        "        self.author = author\n",
        "        self.year_published = year_published\n",
        "\n",
        "    def get_book_info(self):\n",
        "        return f\"'{self.title}' by {self.author}, published in {self.year_published}.\""
      ],
      "metadata": {
        "id": "PKm2aGJo047o"
      },
      "execution_count": null,
      "outputs": []
    },
    {
      "cell_type": "markdown",
      "source": [
        "18. Create a class House with attributes address and price. Create a derived class Mansion that adds an attribute number_of_rooms."
      ],
      "metadata": {
        "id": "wJK5cqLn1hav"
      }
    },
    {
      "cell_type": "code",
      "source": [
        "\n",
        "class House:\n",
        "    def __init__(self, address, price):\n",
        "        self.address = address\n",
        "        self.price = price\n",
        "\n",
        "class Mansion(House):\n",
        "    def __init__(self, address, price, number_of_rooms):\n",
        "        super().__init__(address, price)\n",
        "        self.number_of_rooms = number_of_rooms"
      ],
      "metadata": {
        "id": "lqrAjvvl1jhv"
      },
      "execution_count": null,
      "outputs": []
    },
    {
      "cell_type": "markdown",
      "source": [],
      "metadata": {
        "id": "_KzYNNL01nSM"
      }
    }
  ]
}